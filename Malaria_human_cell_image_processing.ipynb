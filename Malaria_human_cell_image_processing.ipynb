{
 "cells": [
  {
   "cell_type": "markdown",
   "metadata": {},
   "source": [
    "# <center>Malaria Detection with Machine Learning</center>"
   ]
  },
  {
   "cell_type": "markdown",
   "metadata": {},
   "source": [
    "<hr>"
   ]
  },
  {
   "cell_type": "code",
   "execution_count": 6,
   "metadata": {},
   "outputs": [],
   "source": [
    "import cv2,os\n",
    "import numpy as np\n",
    "import csv\n",
    "import glob"
   ]
  },
  {
   "cell_type": "code",
   "execution_count": 7,
   "metadata": {},
   "outputs": [],
   "source": [
    "label = \"Uninfected\"\n",
    "dirList = glob.glob(\"cell_images/\"+label+\"/*.png\")\n",
    "file = open(\"dataset.csv\",\"a\")"
   ]
  },
  {
   "cell_type": "code",
   "execution_count": 8,
   "metadata": {},
   "outputs": [],
   "source": [
    "for img_path in dirList:\n",
    "    im = cv2.imread(\"img_path\")\n",
    "    im = cv2.GaussianBlur(im, (5,5), 2)\n",
    "    \n",
    "    im_gray = cv2.cvtColor(im, cv2.COLORBGR2GRAY)\n",
    "    \n",
    "    ret,thersh = cv2.threshold(im_gray,127,255,0)\n",
    "    contours = cv2.findContours(thresh, 1, 2)\n",
    "    \n",
    "    file.write(label)\n",
    "    file.write(\",\")\n",
    "    \n",
    "    for i in range(5):\n",
    "        try:\n",
    "            area = cv2.contourArea(contours[i])\n",
    "            file.write(str(area))\n",
    "        except:\n",
    "            file.write(\"0\")\n",
    "        file.write(\",\")\n",
    "    file.write(\"\\n\")"
   ]
  },
  {
   "cell_type": "code",
   "execution_count": null,
   "metadata": {},
   "outputs": [],
   "source": []
  }
 ],
 "metadata": {
  "kernelspec": {
   "display_name": "Python 3",
   "language": "python",
   "name": "python3"
  },
  "language_info": {
   "codemirror_mode": {
    "name": "ipython",
    "version": 3
   },
   "file_extension": ".py",
   "mimetype": "text/x-python",
   "name": "python",
   "nbconvert_exporter": "python",
   "pygments_lexer": "ipython3",
   "version": "3.8.2"
  }
 },
 "nbformat": 4,
 "nbformat_minor": 4
}
